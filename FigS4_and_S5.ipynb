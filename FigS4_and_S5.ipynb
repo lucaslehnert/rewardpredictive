{
 "cells": [
  {
   "cell_type": "markdown",
   "metadata": {},
   "source": [
    "# Fig S4 and S5 Plots\n",
    "\n",
    "This notebook generates all plots for supporting Figs S4 and S5.\n",
    "\n",
    "The data set for the reward-predictive model is located in `data/ExperimentTaskSequenceRewardChange*`. These data sets can be reproduced by running \n",
    "\n",
    "```\n",
    "python -m main -e ExperimentSetTaskSequenceRewardChangeQLearning     # Q-learning baseline\n",
    "python -m main -e ExperimentSetTaskSequenceRewardChangeQTransfer     # Q-learning with Q-value transfer\n",
    "python -m main -e ExperimentSetTaskSequenceRewardChangeSFLearning    # SF-learning baseline\n",
    "python -m main -e ExperimentSetTaskSequenceRewardChangeSFTransfer    # SF-learning with SF transfer\n",
    "python -m main -e ExperimentSetTaskSequenceRewardChangeSFTransferAll # SF-learning with SF and reward transfer\n",
    "```\n",
    "\n",
    "The following cell will parse and load the data set into memory. This operation may take a few minutes."
   ]
  },
  {
   "cell_type": "code",
   "execution_count": 4,
   "metadata": {},
   "outputs": [],
   "source": [
    "import warnings; warnings.filterwarnings('ignore')\n",
    "\n",
    "import numpy as np\n",
    "import rewardpredictive as rp\n",
    "import rlutils as rl\n",
    "import matplotlib.pyplot as plt\n",
    "\n",
    "from matplotlib import rc\n",
    "rc('font', **{'family': 'serif', 'size': 9})\n",
    "rc('text', usetex=True)\n",
    "\n",
    "es_qlearning = rp.ExperimentSetTaskSequenceRewardChangeQLearning.load()\n",
    "es_qtransfer = rp.ExperimentSetTaskSequenceRewardChangeQTransfer.load()\n",
    "es_sflearning = rp.ExperimentSetTaskSequenceRewardChangeSFLearning.load()\n",
    "es_sftransfer = rp.ExperimentSetTaskSequenceRewardChangeSFTransfer.load()\n",
    "es_sftransferall = rp.ExperimentSetTaskSequenceRewardChangeSFTransferAll.load()"
   ]
  },
  {
   "cell_type": "markdown",
   "metadata": {},
   "source": [
    "Create directory to store all plot files in."
   ]
  },
  {
   "cell_type": "code",
   "execution_count": 5,
   "metadata": {},
   "outputs": [],
   "source": [
    "!mkdir -p figure/sftransfer"
   ]
  },
  {
   "cell_type": "markdown",
   "metadata": {},
   "source": [
    "### Fig S4C\n",
    "\n",
    "The print text lists the used hyper-parameter for the plot."
   ]
  },
  {
   "cell_type": "code",
   "execution_count": 6,
   "metadata": {},
   "outputs": [
    {
     "name": "stdout",
     "output_type": "stream",
     "text": [
      "Q-learning\n"
     ]
    },
    {
     "ename": "ValueError",
     "evalue": "attempt to get argmin of an empty sequence",
     "output_type": "error",
     "traceback": [
      "\u001b[0;31m---------------------------------------------------------------------------\u001b[0m",
      "\u001b[0;31mValueError\u001b[0m                                Traceback (most recent call last)",
      "\u001b[0;32m<ipython-input-6-9739337b9326>\u001b[0m in \u001b[0;36m<module>\u001b[0;34m\u001b[0m\n\u001b[1;32m      1\u001b[0m \u001b[0mprint\u001b[0m\u001b[0;34m(\u001b[0m\u001b[0;34m'Q-learning'\u001b[0m\u001b[0;34m)\u001b[0m\u001b[0;34m\u001b[0m\u001b[0;34m\u001b[0m\u001b[0m\n\u001b[0;32m----> 2\u001b[0;31m \u001b[0mexp_qlearning\u001b[0m \u001b[0;34m=\u001b[0m \u001b[0mes_qlearning\u001b[0m\u001b[0;34m.\u001b[0m\u001b[0mget_best_experiment\u001b[0m\u001b[0;34m(\u001b[0m\u001b[0mexploration\u001b[0m\u001b[0;34m=\u001b[0m\u001b[0;34m'optimistic'\u001b[0m\u001b[0;34m,\u001b[0m \u001b[0mtask_sequence\u001b[0m\u001b[0;34m=\u001b[0m\u001b[0;34m'significant'\u001b[0m\u001b[0;34m)\u001b[0m\u001b[0;34m\u001b[0m\u001b[0;34m\u001b[0m\u001b[0m\n\u001b[0m\u001b[1;32m      3\u001b[0m \u001b[0mprint\u001b[0m\u001b[0;34m(\u001b[0m\u001b[0;34m'Q-learning with Q-value transfer'\u001b[0m\u001b[0;34m)\u001b[0m\u001b[0;34m\u001b[0m\u001b[0;34m\u001b[0m\u001b[0m\n\u001b[1;32m      4\u001b[0m \u001b[0mexp_qtransfer\u001b[0m \u001b[0;34m=\u001b[0m \u001b[0mes_qtransfer\u001b[0m\u001b[0;34m.\u001b[0m\u001b[0mget_best_experiment\u001b[0m\u001b[0;34m(\u001b[0m\u001b[0mexploration\u001b[0m\u001b[0;34m=\u001b[0m\u001b[0;34m'optimistic'\u001b[0m\u001b[0;34m,\u001b[0m \u001b[0mtask_sequence\u001b[0m\u001b[0;34m=\u001b[0m\u001b[0;34m'significant'\u001b[0m\u001b[0;34m)\u001b[0m\u001b[0;34m\u001b[0m\u001b[0;34m\u001b[0m\u001b[0m\n\u001b[1;32m      5\u001b[0m \u001b[0mprint\u001b[0m\u001b[0;34m(\u001b[0m\u001b[0;34m'SF-learning'\u001b[0m\u001b[0;34m)\u001b[0m\u001b[0;34m\u001b[0m\u001b[0;34m\u001b[0m\u001b[0m\n",
      "\u001b[0;32m~/Documents/rewardpredictive/rewardpredictive/experiment.py\u001b[0m in \u001b[0;36mget_best_experiment\u001b[0;34m(self, exploration, task_sequence)\u001b[0m\n\u001b[1;32m   1377\u001b[0m         })\n\u001b[1;32m   1378\u001b[0m         \u001b[0mep_len_list\u001b[0m \u001b[0;34m=\u001b[0m \u001b[0;34m[\u001b[0m\u001b[0mnp\u001b[0m\u001b[0;34m.\u001b[0m\u001b[0mmean\u001b[0m\u001b[0;34m(\u001b[0m\u001b[0mexp\u001b[0m\u001b[0;34m.\u001b[0m\u001b[0mresults\u001b[0m\u001b[0;34m[\u001b[0m\u001b[0;34m'episode_length'\u001b[0m\u001b[0;34m]\u001b[0m\u001b[0;34m)\u001b[0m \u001b[0;32mfor\u001b[0m \u001b[0mexp\u001b[0m \u001b[0;32min\u001b[0m \u001b[0mexp_list\u001b[0m\u001b[0;34m]\u001b[0m\u001b[0;34m\u001b[0m\u001b[0;34m\u001b[0m\u001b[0m\n\u001b[0;32m-> 1379\u001b[0;31m         \u001b[0mbest_idx\u001b[0m \u001b[0;34m=\u001b[0m \u001b[0mnp\u001b[0m\u001b[0;34m.\u001b[0m\u001b[0margmin\u001b[0m\u001b[0;34m(\u001b[0m\u001b[0mep_len_list\u001b[0m\u001b[0;34m)\u001b[0m\u001b[0;34m\u001b[0m\u001b[0;34m\u001b[0m\u001b[0m\n\u001b[0m\u001b[1;32m   1380\u001b[0m         \u001b[0mexp\u001b[0m \u001b[0;34m=\u001b[0m \u001b[0mexp_list\u001b[0m\u001b[0;34m[\u001b[0m\u001b[0mbest_idx\u001b[0m\u001b[0;34m]\u001b[0m\u001b[0;34m\u001b[0m\u001b[0;34m\u001b[0m\u001b[0m\n\u001b[1;32m   1381\u001b[0m         \u001b[0;32mfor\u001b[0m \u001b[0mk\u001b[0m\u001b[0;34m,\u001b[0m \u001b[0mv\u001b[0m \u001b[0;32min\u001b[0m \u001b[0mexp\u001b[0m\u001b[0;34m.\u001b[0m\u001b[0mhparam\u001b[0m\u001b[0;34m.\u001b[0m\u001b[0mitems\u001b[0m\u001b[0;34m(\u001b[0m\u001b[0;34m)\u001b[0m\u001b[0;34m:\u001b[0m\u001b[0;34m\u001b[0m\u001b[0;34m\u001b[0m\u001b[0m\n",
      "\u001b[0;32m<__array_function__ internals>\u001b[0m in \u001b[0;36margmin\u001b[0;34m(*args, **kwargs)\u001b[0m\n",
      "\u001b[0;32m~/Documents/rewardpredictive/venv/lib/python3.8/site-packages/numpy/core/fromnumeric.py\u001b[0m in \u001b[0;36margmin\u001b[0;34m(a, axis, out)\u001b[0m\n\u001b[1;32m   1267\u001b[0m \u001b[0;34m\u001b[0m\u001b[0m\n\u001b[1;32m   1268\u001b[0m     \"\"\"\n\u001b[0;32m-> 1269\u001b[0;31m     \u001b[0;32mreturn\u001b[0m \u001b[0m_wrapfunc\u001b[0m\u001b[0;34m(\u001b[0m\u001b[0ma\u001b[0m\u001b[0;34m,\u001b[0m \u001b[0;34m'argmin'\u001b[0m\u001b[0;34m,\u001b[0m \u001b[0maxis\u001b[0m\u001b[0;34m=\u001b[0m\u001b[0maxis\u001b[0m\u001b[0;34m,\u001b[0m \u001b[0mout\u001b[0m\u001b[0;34m=\u001b[0m\u001b[0mout\u001b[0m\u001b[0;34m)\u001b[0m\u001b[0;34m\u001b[0m\u001b[0;34m\u001b[0m\u001b[0m\n\u001b[0m\u001b[1;32m   1270\u001b[0m \u001b[0;34m\u001b[0m\u001b[0m\n\u001b[1;32m   1271\u001b[0m \u001b[0;34m\u001b[0m\u001b[0m\n",
      "\u001b[0;32m~/Documents/rewardpredictive/venv/lib/python3.8/site-packages/numpy/core/fromnumeric.py\u001b[0m in \u001b[0;36m_wrapfunc\u001b[0;34m(obj, method, *args, **kwds)\u001b[0m\n\u001b[1;32m     53\u001b[0m     \u001b[0mbound\u001b[0m \u001b[0;34m=\u001b[0m \u001b[0mgetattr\u001b[0m\u001b[0;34m(\u001b[0m\u001b[0mobj\u001b[0m\u001b[0;34m,\u001b[0m \u001b[0mmethod\u001b[0m\u001b[0;34m,\u001b[0m \u001b[0;32mNone\u001b[0m\u001b[0;34m)\u001b[0m\u001b[0;34m\u001b[0m\u001b[0;34m\u001b[0m\u001b[0m\n\u001b[1;32m     54\u001b[0m     \u001b[0;32mif\u001b[0m \u001b[0mbound\u001b[0m \u001b[0;32mis\u001b[0m \u001b[0;32mNone\u001b[0m\u001b[0;34m:\u001b[0m\u001b[0;34m\u001b[0m\u001b[0;34m\u001b[0m\u001b[0m\n\u001b[0;32m---> 55\u001b[0;31m         \u001b[0;32mreturn\u001b[0m \u001b[0m_wrapit\u001b[0m\u001b[0;34m(\u001b[0m\u001b[0mobj\u001b[0m\u001b[0;34m,\u001b[0m \u001b[0mmethod\u001b[0m\u001b[0;34m,\u001b[0m \u001b[0;34m*\u001b[0m\u001b[0margs\u001b[0m\u001b[0;34m,\u001b[0m \u001b[0;34m**\u001b[0m\u001b[0mkwds\u001b[0m\u001b[0;34m)\u001b[0m\u001b[0;34m\u001b[0m\u001b[0;34m\u001b[0m\u001b[0m\n\u001b[0m\u001b[1;32m     56\u001b[0m \u001b[0;34m\u001b[0m\u001b[0m\n\u001b[1;32m     57\u001b[0m     \u001b[0;32mtry\u001b[0m\u001b[0;34m:\u001b[0m\u001b[0;34m\u001b[0m\u001b[0;34m\u001b[0m\u001b[0m\n",
      "\u001b[0;32m~/Documents/rewardpredictive/venv/lib/python3.8/site-packages/numpy/core/fromnumeric.py\u001b[0m in \u001b[0;36m_wrapit\u001b[0;34m(obj, method, *args, **kwds)\u001b[0m\n\u001b[1;32m     42\u001b[0m     \u001b[0;32mexcept\u001b[0m \u001b[0mAttributeError\u001b[0m\u001b[0;34m:\u001b[0m\u001b[0;34m\u001b[0m\u001b[0;34m\u001b[0m\u001b[0m\n\u001b[1;32m     43\u001b[0m         \u001b[0mwrap\u001b[0m \u001b[0;34m=\u001b[0m \u001b[0;32mNone\u001b[0m\u001b[0;34m\u001b[0m\u001b[0;34m\u001b[0m\u001b[0m\n\u001b[0;32m---> 44\u001b[0;31m     \u001b[0mresult\u001b[0m \u001b[0;34m=\u001b[0m \u001b[0mgetattr\u001b[0m\u001b[0;34m(\u001b[0m\u001b[0masarray\u001b[0m\u001b[0;34m(\u001b[0m\u001b[0mobj\u001b[0m\u001b[0;34m)\u001b[0m\u001b[0;34m,\u001b[0m \u001b[0mmethod\u001b[0m\u001b[0;34m)\u001b[0m\u001b[0;34m(\u001b[0m\u001b[0;34m*\u001b[0m\u001b[0margs\u001b[0m\u001b[0;34m,\u001b[0m \u001b[0;34m**\u001b[0m\u001b[0mkwds\u001b[0m\u001b[0;34m)\u001b[0m\u001b[0;34m\u001b[0m\u001b[0;34m\u001b[0m\u001b[0m\n\u001b[0m\u001b[1;32m     45\u001b[0m     \u001b[0;32mif\u001b[0m \u001b[0mwrap\u001b[0m\u001b[0;34m:\u001b[0m\u001b[0;34m\u001b[0m\u001b[0;34m\u001b[0m\u001b[0m\n\u001b[1;32m     46\u001b[0m         \u001b[0;32mif\u001b[0m \u001b[0;32mnot\u001b[0m \u001b[0misinstance\u001b[0m\u001b[0;34m(\u001b[0m\u001b[0mresult\u001b[0m\u001b[0;34m,\u001b[0m \u001b[0mmu\u001b[0m\u001b[0;34m.\u001b[0m\u001b[0mndarray\u001b[0m\u001b[0;34m)\u001b[0m\u001b[0;34m:\u001b[0m\u001b[0;34m\u001b[0m\u001b[0;34m\u001b[0m\u001b[0m\n",
      "\u001b[0;31mValueError\u001b[0m: attempt to get argmin of an empty sequence"
     ]
    }
   ],
   "source": [
    "print('Q-learning')\n",
    "exp_qlearning = es_qlearning.get_best_experiment(exploration='optimistic', task_sequence='significant') \n",
    "print('Q-learning with Q-value transfer')\n",
    "exp_qtransfer = es_qtransfer.get_best_experiment(exploration='optimistic', task_sequence='significant')  \n",
    "print('SF-learning')\n",
    "exp_sflearning = es_sflearning.get_best_experiment(exploration='optimistic', task_sequence='significant')  \n",
    "print('SF-learning with SF and rew transfer')\n",
    "exp_sftransferall = es_sftransferall.get_best_experiment(exploration='optimistic', task_sequence='significant')  \n",
    "\n",
    "ep_len_qlearning = np.mean(exp_qlearning.results['episode_length'], axis=-1)\n",
    "ep_len_qtransfer = np.mean(exp_qtransfer.results['episode_length'], axis=-1)\n",
    "ep_len_sflearning = np.mean(exp_sflearning.results['episode_length'], axis=-1)\n",
    "ep_len_sftransfer = np.mean(exp_sftransferall.results['episode_length'], axis=-1)\n",
    "\n",
    "plt.figure(figsize=(4, 2))\n",
    "rl.plot.mean_with_sem([1, 2, 3, 4], ep_len_qlearning, axis=0, color='C0', label='Q-Learning')\n",
    "rl.plot.mean_with_sem([1, 2, 3, 4], ep_len_qtransfer, axis=0, color='C1', label='Q-Learning\\nwith Transfer')\n",
    "rl.plot.mean_with_sem([1, 2, 3, 4], ep_len_sflearning, axis=0, color='C2', label='SF-Learning')\n",
    "rl.plot.mean_with_sem([1, 2, 3, 4], ep_len_sftransfer, axis=0, color='C3', label='SF-Learning\\nwith Transfer')\n",
    "plt.ylim([10, 35])\n",
    "plt.ylabel('Avg. episode length per task')\n",
    "plt.xticks([1, 2, 3, 4], ['Task 1\\n(Map A)', 'Task 2\\n(Map B)', 'Task 3\\n(Map C)', 'Task 4\\n(Map D)'])\n",
    "leg = plt.legend(loc=1, ncol=2, frameon=False)\n",
    "leg.get_frame().set_linewidth(0.0)\n",
    "plt.savefig('figure/sftransfer/comparison_ep_len_per_task.pdf', bbox_inches='tight', pad_inches=.1, transparent=True)"
   ]
  },
  {
   "cell_type": "markdown",
   "metadata": {},
   "source": [
    "### Fig S4B"
   ]
  },
  {
   "cell_type": "code",
   "execution_count": 4,
   "metadata": {},
   "outputs": [
    {
     "data": {
      "image/png": "[encoded data removed]",
      "text/plain": [
       "<Figure size 288x144 with 1 Axes>"
      ]
     },
     "metadata": {
      "needs_background": "light"
     },
     "output_type": "display_data"
    }
   ],
   "source": [
    "plt.figure(figsize=(4, 2))\n",
    "for i in [1, 200, 400, 600, 800]:\n",
    "    plt.plot([i, i], [0, 1000], c='k', alpha=0.5)\n",
    "ep_len_list = np.array(exp_sftransferall.results['episode_length']).transpose([1, 0, 2])\n",
    "ep_idx = np.arange(200) + 1\n",
    "for i, ep_len in enumerate(ep_len_list):\n",
    "    rl.plot.mean_with_sem(ep_idx + i * 200, ep_len, axis=0, color='C0')\n",
    "_ = plt.xticks([1] + list(np.arange(200, 801, 200)))\n",
    "plt.xlabel('Episode')\n",
    "plt.ylabel('Avg. Episode Length')\n",
    "plt.ylim([0, 80])\n",
    "plt.savefig('figure/sftransfer/sf_transfer_ep_len.pdf', bbox_inches='tight', pad_inches=.1, transparent=True)"
   ]
  },
  {
   "cell_type": "code",
   "execution_count": 5,
   "metadata": {},
   "outputs": [],
   "source": [
    "def plot_episode_length_comparison(experiment_list, label_list):\n",
    "    get_episode_len = lambda e: np.mean(np.mean(np.stack(e.results['episode_length'])[:, 1:, :], axis=-1), axis=-1)exp_sftransferall = es_sftransferall.get_best_experiment(exploration='optimistic', task_sequence='significant')  \n",
    "\n",
    "    ep_len_list = [get_episode_len(e) for e in experiment_list]\n",
    "    plt.boxplot(ep_len_list, positions=range(len(label_list)))\n",
    "    plt.xticks(range(len(label_list)), label_list, rotation=90)\n",
    "    plt.ylabel('Avg. episode length\\nafter first task')"
   ]
  },
  {
   "cell_type": "markdown",
   "metadata": {},
   "source": [
    "### Fig S5A\n",
    "\n",
    "The print text lists the used hyper-parameter for the plot."
   ]
  },
  {
   "cell_type": "code",
   "execution_count": 6,
   "metadata": {},
   "outputs": [
    {
     "name": "stdout",
     "output_type": "stream",
     "text": [
      "Q-learning\n",
      "repeats: 20\n",
      "task_sequence: significant\n",
      "exploration: optimistic\n",
      "episodes: 200\n",
      "lr: 0.9\n",
      "Q-learning with Q-value transfer\n",
      "repeats: 20\n",
      "task_sequence: significant\n",
      "exploration: optimistic\n",
      "episodes: 200\n",
      "lr: 0.9\n",
      "SF-learning\n",
      "repeats: 20\n",
      "task_sequence: significant\n",
      "exploration: optimistic\n",
      "episodes: 200\n",
      "lr_sf: 0.3\n",
      "lr_r: 0.9\n",
      "SF-learning with SF transfer\n",
      "repeats: 20\n",
      "task_sequence: significant\n",
      "exploration: optimistic\n",
      "episodes: 200\n",
      "lr_sf: 0.3\n",
      "lr_r: 0.9\n",
      "SF-learning with SF and reward transfer\n",
      "repeats: 20\n",
      "task_sequence: significant\n",
      "exploration: optimistic\n",
      "episodes: 200\n",
      "lr_sf: 0.3\n",
      "lr_r: 0.9\n"
     ]
    },
    {
     "data": {
      "image/png": "[encoded data removed]",
      "text/plain": [
       "<Figure size 216x144 with 1 Axes>"
      ]
     },
     "metadata": {
      "needs_background": "light"
     },
     "output_type": "display_data"
    }
   ],
   "source": [
    "print('Q-learning')\n",
    "exp_qlearning = es_qlearning.get_best_experiment(exploration='optimistic', task_sequence='significant') \n",
    "print('Q-learning with Q-value transfer')\n",
    "exp_qtransfer = es_qtransfer.get_best_experiment(exploration='optimistic', task_sequence='significant')  \n",
    "print('SF-learning')\n",
    "exp_sflearning = es_sflearning.get_best_experiment(exploration='optimistic', task_sequence='significant')  \n",
    "print('SF-learning with SF transfer')\n",
    "exp_sftransfer = es_sftransfer.get_best_experiment(exploration='optimistic', task_sequence='significant')  \n",
    "print('SF-learning with SF and reward transfer')\n",
    "exp_sftransferall = es_sftransferall.get_best_experiment(exploration='optimistic', task_sequence='significant') \n",
    "\n",
    "plt.figure(figsize=(3, 2))\n",
    "plot_episode_length_comparison(\n",
    "    experiment_list=[\n",
    "        exp_qlearning,\n",
    "        exp_qtransfer,\n",
    "        exp_sflearning,\n",
    "        exp_sftransfer,\n",
    "        exp_sftransferall\n",
    "    ], \n",
    "    label_list=[\n",
    "        'Q-Learning\\nno transfer',\n",
    "        'Q-Learning\\nQ-value transfer',\n",
    "        'SF-Learning\\nno transfer',\n",
    "        'SF-Learning\\nSF transfer',\n",
    "        'SF-Learning\\nSF and reward\\ntransfer'\n",
    "    ]\n",
    ")\n",
    "plt.ylim([8, 27])\n",
    "plt.savefig('figure/sftransfer/comparison_ep_len_optimistic.pdf', bbox_inches='tight', pad_inches=.1, transparent=True)"
   ]
  },
  {
   "cell_type": "markdown",
   "metadata": {},
   "source": [
    "### Fig S5B"
   ]
  },
  {
   "cell_type": "code",
   "execution_count": 7,
   "metadata": {},
   "outputs": [
    {
     "name": "stdout",
     "output_type": "stream",
     "text": [
      "Q-learning\n",
      "repeats: 20\n",
      "task_sequence: significant\n",
      "exploration: egreedy\n",
      "episodes: 200\n",
      "lr: 0.7\n",
      "Q-learning with Q-value transfer\n",
      "repeats: 20\n",
      "task_sequence: significant\n",
      "exploration: egreedy\n",
      "episodes: 200\n",
      "lr: 0.9\n",
      "SF-learning\n",
      "repeats: 20\n",
      "task_sequence: significant\n",
      "exploration: egreedy\n",
      "episodes: 200\n",
      "lr_sf: 0.1\n",
      "lr_r: 0.5\n",
      "SF-learning with SF transfer\n",
      "repeats: 20\n",
      "task_sequence: significant\n",
      "exploration: egreedy\n",
      "episodes: 200\n",
      "lr_sf: 0.3\n",
      "lr_r: 0.3\n",
      "SF-learning with SF and reward transfer\n",
      "repeats: 20\n",
      "task_sequence: significant\n",
      "exploration: egreedy\n",
      "episodes: 200\n",
      "lr_sf: 0.1\n",
      "lr_r: 0.7\n"
     ]
    },
    {
     "data": {
      "image/png": "[encoded data removed]",
      "text/plain": [
       "<Figure size 216x144 with 1 Axes>"
      ]
     },
     "metadata": {
      "needs_background": "light"
     },
     "output_type": "display_data"
    }
   ],
   "source": [
    "print('Q-learning')\n",
    "exp_qlearning = es_qlearning.get_best_experiment(exploration='egreedy', task_sequence='significant') \n",
    "print('Q-learning with Q-value transfer')\n",
    "exp_qtransfer = es_qtransfer.get_best_experiment(exploration='egreedy', task_sequence='significant')  \n",
    "print('SF-learning')\n",
    "exp_sflearning = es_sflearning.get_best_experiment(exploration='egreedy', task_sequence='significant')  \n",
    "print('SF-learning with SF transfer')\n",
    "exp_sftransfer = es_sftransfer.get_best_experiment(exploration='egreedy', task_sequence='significant')  \n",
    "print('SF-learning with SF and reward transfer')\n",
    "exp_sftransferall = es_sftransferall.get_best_experiment(exploration='egreedy', task_sequence='significant') \n",
    "\n",
    "plt.figure(figsize=(3, 2))\n",
    "plot_episode_length_comparison(\n",
    "    experiment_list=[\n",
    "        exp_qlearning,\n",
    "        exp_qtransfer,\n",
    "        exp_sflearning,\n",
    "        exp_sftransfer,\n",
    "        exp_sftransferall\n",
    "    ], \n",
    "    label_list=[\n",
    "        'Q-Learning\\nno transfer',\n",
    "        'Q-Learning\\nQ-value transfer',\n",
    "        'SF-Learning\\nno transfer',\n",
    "        'SF-Learning\\nSF transfer',\n",
    "        'SF-Learning\\nSF and reward\\ntransfer'\n",
    "    ]\n",
    ")\n",
    "plt.ylim([8, 47])\n",
    "plt.savefig('figure/sftransfer/comparison_ep_len_egreedy.pdf', bbox_inches='tight', pad_inches=.1, transparent=True)"
   ]
  }
 ],
 "metadata": {
  "kernelspec": {
   "display_name": "Python 3",
   "language": "python",
   "name": "python3"
  },
  "language_info": {
   "codemirror_mode": {
    "name": "ipython",
    "version": 3
   },
   "file_extension": ".py",
   "mimetype": "text/x-python",
   "name": "python",
   "nbconvert_exporter": "python",
   "pygments_lexer": "ipython3",
   "version": "3.8.5"
  }
 },
 "nbformat": 4,
 "nbformat_minor": 4
}
