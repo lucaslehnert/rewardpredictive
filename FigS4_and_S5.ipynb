{
 "cells": [
  {
   "cell_type": "markdown",
   "metadata": {},
   "source": [
    "# Fig S4 and S5 Plots\n",
    "\n",
    "This notebook generates all plots for supporting Figs S4 and S5.\n",
    "\n",
    "The data set for the reward-predictive model is located in `data/ExperimentTaskSequenceRewardChange*`. These data sets can be reproduced by running \n",
    "\n",
    "```\n",
    "python -m main -e ExperimentTaskSequenceRewardChangeQLearning     # Q-learning baseline\n",
    "python -m main -e ExperimentTaskSequenceRewardChangeQTransfer     # Q-learning with Q-value transfer\n",
    "python -m main -e ExperimentTaskSequenceRewardChangeSFLearning    # SF-learning baseline\n",
    "python -m main -e ExperimentTaskSequenceRewardChangeSFTransfer    # SF-learning with SF transfer\n",
    "python -m main -e ExperimentTaskSequenceRewardChangeSFTransferAll # SF-learning with SF and reward transfer\n",
    "```\n",
    "\n",
    "The following cell will parse and load the data set into memory. This operation may take a few minutes."
   ]
  },
  {
   "cell_type": "code",
   "execution_count": 1,
   "metadata": {},
   "outputs": [],
   "source": [
    "import warnings; warnings.filterwarnings('ignore')\n",
    "\n",
    "import numpy as np\n",
    "import rewardpredictive as rp\n",
    "import rlutils as rl\n",
    "import matplotlib.pyplot as plt\n",
    "\n",
    "from matplotlib import rc\n",
    "rc('font', **{'family': 'serif', 'size': 9})\n",
    "rc('text', usetex=True)\n",
    "\n",
    "es_qlearning = rp.ExperimentSetTaskSequenceRewardChangeQLearning.load()\n",
    "es_qtransfer = rp.ExperimentSetTaskSequenceRewardChangeQTransfer.load()\n",
    "es_sflearning = rp.ExperimentSetTaskSequenceRewardChangeSFLearning.load()\n",
    "es_sftransfer = rp.ExperimentSetTaskSequenceRewardChangeSFTransfer.load()\n",
    "es_sftransferall = rp.ExperimentSetTaskSequenceRewardChangeSFTransferAll.load()"
   ]
  },
  {
   "cell_type": "markdown",
   "metadata": {},
   "source": [
    "Create directory to store all plot files in."
   ]
  },
  {
   "cell_type": "code",
   "execution_count": 2,
   "metadata": {},
   "outputs": [],
   "source": [
    "!mkdir -p figure/sftransfer"
   ]
  },
  {
   "cell_type": "markdown",
   "metadata": {},
   "source": [
    "### Fig S4C\n",
    "\n",
    "The print text lists the used hyper-parameter for the plot."
   ]
  },
  {
   "cell_type": "code",
   "execution_count": 3,
   "metadata": {},
   "outputs": [
    {
     "name": "stdout",
     "output_type": "stream",
     "text": [
      "Q-learning\n",
      "repeats: 20\n",
      "task_sequence: significant\n",
      "exploration: optimistic\n",
      "episodes: 200\n",
      "lr: 0.9\n",
      "Q-learning with Q-value transfer\n",
      "repeats: 20\n",
      "task_sequence: significant\n",
      "exploration: optimistic\n",
      "episodes: 200\n",
      "lr: 0.9\n",
      "SF-learning\n",
      "repeats: 20\n",
      "task_sequence: significant\n",
      "exploration: optimistic\n",
      "episodes: 200\n",
      "lr_sf: 0.3\n",
      "lr_r: 0.9\n",
      "SF-learning with SF and rew transfer\n",
      "repeats: 20\n",
      "task_sequence: significant\n",
      "exploration: optimistic\n",
      "episodes: 200\n",
      "lr_sf: 0.3\n",
      "lr_r: 0.9\n"
     ]
    },
    {
     "data": {
      "image/png": "[encoded data removed]",
      "text/plain": [
       "<Figure size 288x144 with 1 Axes>"
      ]
     },
     "metadata": {
      "needs_background": "light"
     },
     "output_type": "display_data"
    }
   ],
   "source": [
    "print('Q-learning')\n",
    "exp_qlearning = es_qlearning.get_best_experiment(exploration='optimistic', task_sequence='significant') \n",
    "print('Q-learning with Q-value transfer')\n",
    "exp_qtransfer = es_qtransfer.get_best_experiment(exploration='optimistic', task_sequence='significant')  \n",
    "print('SF-learning')\n",
    "exp_sflearning = es_sflearning.get_best_experiment(exploration='optimistic', task_sequence='significant')  \n",
    "print('SF-learning with SF and rew transfer')\n",
    "exp_sftransferall = es_sftransferall.get_best_experiment(exploration='optimistic', task_sequence='significant')  \n",
    "\n",
    "ep_len_qlearning = np.mean(exp_qlearning.results['episode_length'], axis=-1)\n",
    "ep_len_qtransfer = np.mean(exp_qtransfer.results['episode_length'], axis=-1)\n",
    "ep_len_sflearning = np.mean(exp_sflearning.results['episode_length'], axis=-1)\n",
    "ep_len_sftransfer = np.mean(exp_sftransferall.results['episode_length'], axis=-1)\n",
    "\n",
    "plt.figure(figsize=(4, 2))\n",
    "rl.plot.mean_with_sem([1, 2, 3, 4], ep_len_qlearning, axis=0, color='C0', label='Q-Learning')\n",
    "rl.plot.mean_with_sem([1, 2, 3, 4], ep_len_qtransfer, axis=0, color='C1', label='Q-Learning\\nwith Transfer')\n",
    "rl.plot.mean_with_sem([1, 2, 3, 4], ep_len_sflearning, axis=0, color='C2', label='SF-Learning')\n",
    "rl.plot.mean_with_sem([1, 2, 3, 4], ep_len_sftransfer, axis=0, color='C3', label='SF-Learning\\nwith Transfer')\n",
    "plt.ylim([10, 35])\n",
    "plt.ylabel('Avg. episode length per task')\n",
    "plt.xticks([1, 2, 3, 4], ['Task 1\\n(Map A)', 'Task 2\\n(Map B)', 'Task 3\\n(Map C)', 'Task 4\\n(Map D)'])\n",
    "leg = plt.legend(loc=1, ncol=2, frameon=False)\n",
    "leg.get_frame().set_linewidth(0.0)\n",
    "plt.savefig('figure/sftransfer/comparison_ep_len_per_task.pdf', bbox_inches='tight', pad_inches=.1, transparent=True)"
   ]
  },
  {
   "cell_type": "markdown",
   "metadata": {},
   "source": [
    "### Fig S4B"
   ]
  },
  {
   "cell_type": "code",
   "execution_count": 4,
   "metadata": {},
   "outputs": [
    {
     "data": {
      "image/png": "[encoded data removed]",
      "text/plain": [
       "<Figure size 288x144 with 1 Axes>"
      ]
     },
     "metadata": {
      "needs_background": "light"
     },
     "output_type": "display_data"
    }
   ],
   "source": [
    "plt.figure(figsize=(4, 2))\n",
    "for i in [1, 200, 400, 600, 800]:\n",
    "    plt.plot([i, i], [0, 1000], c='k', alpha=0.5)\n",
    "ep_len_list = np.array(exp_sftransferall.results['episode_length']).transpose([1, 0, 2])\n",
    "ep_idx = np.arange(200) + 1\n",
    "for i, ep_len in enumerate(ep_len_list):\n",
    "    rl.plot.mean_with_sem(ep_idx + i * 200, ep_len, axis=0, color='C0')\n",
    "_ = plt.xticks([1] + list(np.arange(200, 801, 200)))\n",
    "plt.xlabel('Episode')\n",
    "plt.ylabel('Avg. Episode Length')\n",
    "plt.ylim([0, 80])\n",
    "plt.savefig('figure/sftransfer/sf_transfer_ep_len.pdf', bbox_inches='tight', pad_inches=.1, transparent=True)"
   ]
  },
  {
   "cell_type": "code",
   "execution_count": 5,
   "metadata": {},
   "outputs": [],
   "source": [
    "def plot_episode_length_comparison(experiment_list, label_list):\n",
    "    get_episode_len = lambda e: np.mean(np.mean(np.stack(e.results['episode_length'])[:, 1:, :], axis=-1), axis=-1)\n",
    "    ep_len_list = [get_episode_len(e) for e in experiment_list]\n",
    "    plt.boxplot(ep_len_list, positions=range(len(label_list)))\n",
    "    plt.xticks(range(len(label_list)), label_list, rotation=90)\n",
    "    plt.ylabel('Avg. episode length\\nafter first task')"
   ]
  },
  {
   "cell_type": "markdown",
   "metadata": {},
   "source": [
    "### Fig S5A\n",
    "\n",
    "The print text lists the used hyper-parameter for the plot."
   ]
  },
  {
   "cell_type": "code",
   "execution_count": 6,
   "metadata": {},
   "outputs": [
    {
     "name": "stdout",
     "output_type": "stream",
     "text": [
      "Q-learning\n",
      "repeats: 20\n",
      "task_sequence: significant\n",
      "exploration: optimistic\n",
      "episodes: 200\n",
      "lr: 0.9\n",
      "Q-learning with Q-value transfer\n",
      "repeats: 20\n",
      "task_sequence: significant\n",
      "exploration: optimistic\n",
      "episodes: 200\n",
      "lr: 0.9\n",
      "SF-learning\n",
      "repeats: 20\n",
      "task_sequence: significant\n",
      "exploration: optimistic\n",
      "episodes: 200\n",
      "lr_sf: 0.3\n",
      "lr_r: 0.9\n",
      "SF-learning with SF transfer\n",
      "repeats: 20\n",
      "task_sequence: significant\n",
      "exploration: optimistic\n",
      "episodes: 200\n",
      "lr_sf: 0.3\n",
      "lr_r: 0.9\n",
      "SF-learning with SF and reward transfer\n",
      "repeats: 20\n",
      "task_sequence: significant\n",
      "exploration: optimistic\n",
      "episodes: 200\n",
      "lr_sf: 0.3\n",
      "lr_r: 0.9\n"
     ]
    },
    {
     "data": {
      "image/png": "[encoded data removed]",
      "text/plain": [
       "<Figure size 216x144 with 1 Axes>"
      ]
     },
     "metadata": {
      "needs_background": "light"
     },
     "output_type": "display_data"
    }
   ],
   "source": [
    "print('Q-learning')\n",
    "exp_qlearning = es_qlearning.get_best_experiment(exploration='optimistic', task_sequence='significant') \n",
    "print('Q-learning with Q-value transfer')\n",
    "exp_qtransfer = es_qtransfer.get_best_experiment(exploration='optimistic', task_sequence='significant')  \n",
    "print('SF-learning')\n",
    "exp_sflearning = es_sflearning.get_best_experiment(exploration='optimistic', task_sequence='significant')  \n",
    "print('SF-learning with SF transfer')\n",
    "exp_sftransfer = es_sftransfer.get_best_experiment(exploration='optimistic', task_sequence='significant')  \n",
    "print('SF-learning with SF and reward transfer')\n",
    "exp_sftransferall = es_sftransferall.get_best_experiment(exploration='optimistic', task_sequence='significant') \n",
    "\n",
    "plt.figure(figsize=(3, 2))\n",
    "plot_episode_length_comparison(\n",
    "    experiment_list=[\n",
    "        exp_qlearning,\n",
    "        exp_qtransfer,\n",
    "        exp_sflearning,\n",
    "        exp_sftransfer,\n",
    "        exp_sftransferall\n",
    "    ], \n",
    "    label_list=[\n",
    "        'Q-Learning\\nno transfer',\n",
    "        'Q-Learning\\nQ-value transfer',\n",
    "        'SF-Learning\\nno transfer',\n",
    "        'SF-Learning\\nSF transfer',\n",
    "        'SF-Learning\\nSF and reward\\ntransfer'\n",
    "    ]\n",
    ")\n",
    "plt.ylim([8, 27])\n",
    "plt.savefig('figure/sftransfer/comparison_ep_len_optimistic.pdf', bbox_inches='tight', pad_inches=.1, transparent=True)"
   ]
  },
  {
   "cell_type": "markdown",
   "metadata": {},
   "source": [
    "### Fig S5B"
   ]
  },
  {
   "cell_type": "code",
   "execution_count": 7,
   "metadata": {},
   "outputs": [
    {
     "name": "stdout",
     "output_type": "stream",
     "text": [
      "Q-learning\n",
      "repeats: 20\n",
      "task_sequence: significant\n",
      "exploration: egreedy\n",
      "episodes: 200\n",
      "lr: 0.7\n",
      "Q-learning with Q-value transfer\n",
      "repeats: 20\n",
      "task_sequence: significant\n",
      "exploration: egreedy\n",
      "episodes: 200\n",
      "lr: 0.9\n",
      "SF-learning\n",
      "repeats: 20\n",
      "task_sequence: significant\n",
      "exploration: egreedy\n",
      "episodes: 200\n",
      "lr_sf: 0.1\n",
      "lr_r: 0.5\n",
      "SF-learning with SF transfer\n",
      "repeats: 20\n",
      "task_sequence: significant\n",
      "exploration: egreedy\n",
      "episodes: 200\n",
      "lr_sf: 0.3\n",
      "lr_r: 0.3\n",
      "SF-learning with SF and reward transfer\n",
      "repeats: 20\n",
      "task_sequence: significant\n",
      "exploration: egreedy\n",
      "episodes: 200\n",
      "lr_sf: 0.1\n",
      "lr_r: 0.7\n"
     ]
    },
    {
     "data": {
      "image/png": "[encoded data removed]",
      "text/plain": [
       "<Figure size 216x144 with 1 Axes>"
      ]
     },
     "metadata": {
      "needs_background": "light"
     },
     "output_type": "display_data"
    }
   ],
   "source": [
    "print('Q-learning')\n",
    "exp_qlearning = es_qlearning.get_best_experiment(exploration='egreedy', task_sequence='significant') \n",
    "print('Q-learning with Q-value transfer')\n",
    "exp_qtransfer = es_qtransfer.get_best_experiment(exploration='egreedy', task_sequence='significant')  \n",
    "print('SF-learning')\n",
    "exp_sflearning = es_sflearning.get_best_experiment(exploration='egreedy', task_sequence='significant')  \n",
    "print('SF-learning with SF transfer')\n",
    "exp_sftransfer = es_sftransfer.get_best_experiment(exploration='egreedy', task_sequence='significant')  \n",
    "print('SF-learning with SF and reward transfer')\n",
    "exp_sftransferall = es_sftransferall.get_best_experiment(exploration='egreedy', task_sequence='significant') \n",
    "\n",
    "plt.figure(figsize=(3, 2))\n",
    "plot_episode_length_comparison(\n",
    "    experiment_list=[\n",
    "        exp_qlearning,\n",
    "        exp_qtransfer,\n",
    "        exp_sflearning,\n",
    "        exp_sftransfer,\n",
    "        exp_sftransferall\n",
    "    ], \n",
    "    label_list=[\n",
    "        'Q-Learning\\nno transfer',\n",
    "        'Q-Learning\\nQ-value transfer',\n",
    "        'SF-Learning\\nno transfer',\n",
    "        'SF-Learning\\nSF transfer',\n",
    "        'SF-Learning\\nSF and reward\\ntransfer'\n",
    "    ]\n",
    ")\n",
    "plt.ylim([8, 47])\n",
    "plt.savefig('figure/sftransfer/comparison_ep_len_egreedy.pdf', bbox_inches='tight', pad_inches=.1, transparent=True)"
   ]
  }
 ],
 "metadata": {
  "kernelspec": {
   "display_name": "Python 3",
   "language": "python",
   "name": "python3"
  },
  "language_info": {
   "codemirror_mode": {
    "name": "ipython",
    "version": 3
   },
   "file_extension": ".py",
   "mimetype": "text/x-python",
   "name": "python",
   "nbconvert_exporter": "python",
   "pygments_lexer": "ipython3",
   "version": "3.7.8"
  }
 },
 "nbformat": 4,
 "nbformat_minor": 4
}
