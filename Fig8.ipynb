{
 "cells": [
  {
   "cell_type": "markdown",
   "metadata": {},
   "source": [
    "# Fig 8 Plots\n",
    "\n",
    "This notebook generates the plot for Fig 8B. The simulation data for this figure is located in `data/ExperimentGuitarSFLearning` (baseline experiment), `data/ExperimentGuitarSFTransfer` (SF-learning with SF transfer), and `data/ExperimentGuitarRewardPredictive` (the reward-predictive model). This data set can be reproduced by running\n",
    "\n",
    "```\n",
    "python -m main -e ExperimentSetGuitarSFLearning\n",
    "python -m main -e ExperimentSetGuitarSFTransfer\n",
    "python -m main -e ExperimentSetGuitarRewardPredictive\n",
    "```\n",
    "\n",
    "The following cell loads the data set from disk. This may take a few minutes."
   ]
  },
  {
   "cell_type": "code",
   "execution_count": 1,
   "metadata": {},
   "outputs": [
    {
     "name": "stdout",
     "output_type": "stream",
     "text": [
      "Retrieving experiment(s) with hyper-parameter(s):\n",
      "\trepeats: 10\n",
      "\tlearning_rate_sf: 0.1\n",
      "\tlearning_rate_reward: 0.9\n",
      "\tepisodes: 100\n",
      "Retrieving experiment(s) with hyper-parameter(s):\n",
      "\trepeats: 10\n",
      "\tlearning_rate_sf: 0.9\n",
      "\tlearning_rate_reward: 0.9\n",
      "\tepisodes: 100\n",
      "Retrieving experiment(s) with hyper-parameter(s):\n",
      "\trepeats: 10\n",
      "\tlearning_rate_sf: 0.9\n",
      "\tlearning_rate_reward: 0.9\n",
      "\tepisodes: 100\n"
     ]
    }
   ],
   "source": [
    "import warnings; warnings.filterwarnings('ignore')\n",
    "\n",
    "import numpy as np\n",
    "import rewardpredictive as rp\n",
    "import matplotlib.pyplot as plt\n",
    "\n",
    "from matplotlib import rc\n",
    "rc('font', **{'family': 'serif', 'size': 9})\n",
    "rc('text', usetex=True)\n",
    "\n",
    "exp_sflearning = rp.ExperimentSetGuitarSFLearning.load().get_best_experiment()\n",
    "exp_sftransfer = rp.ExperimentSetGuitarSFTransfer.load().get_best_experiment()\n",
    "exp_sfrewpred = rp.ExperimentSetGuitarRewardPredictive.load().get_best_experiment()"
   ]
  },
  {
   "cell_type": "code",
   "execution_count": 2,
   "metadata": {},
   "outputs": [],
   "source": [
    "! mkdir -p figure/guitar"
   ]
  },
  {
   "cell_type": "markdown",
   "metadata": {},
   "source": [
    "Plot avg. episode length on each scale task."
   ]
  },
  {
   "cell_type": "markdown",
   "metadata": {},
   "source": [
    "### Fig 8B"
   ]
  },
  {
   "cell_type": "code",
   "execution_count": 3,
   "metadata": {},
   "outputs": [
    {
     "data": {
      "image/png": "[encoded data removed]",
      "text/plain": [
       "<Figure size 288x216 with 1 Axes>"
      ]
     },
     "metadata": {
      "needs_background": "light"
     },
     "output_type": "display_data"
    }
   ],
   "source": [
    "rew_sflearning = np.sum(exp_sflearning.results['total_reward'], axis=-1)\n",
    "rew_sftransfer = np.sum(exp_sftransfer.results['total_reward'], axis=-1)\n",
    "rew_sfrewpred = np.sum(exp_sfrewpred.results['total_reward'], axis=-1)\n",
    "\n",
    "plt.figure(figsize=(4, 3))\n",
    "rp.plot.mean_with_sem([1, 2], rew_sflearning, axis=0, color='C0', label='SF-learning (Baseline)', linewidth=2)\n",
    "rp.plot.mean_with_sem([1, 2], rew_sftransfer, axis=0, color='C1', label='SF-learning\\nwith SF transfer')\n",
    "rp.plot.mean_with_sem([1, 2], rew_sfrewpred, axis=0, color='C2', label='Reward Predictive\\nwith SF-learning')\n",
    "plt.ylabel('Total Reward')\n",
    "plt.xticks([1, 2], ['Scale 1:\\nC-D-E-F-G-A-B', 'Scale 2:\\nA-B-C-D-E-F-G'])\n",
    "plt.xlim([0.75, 2.25])\n",
    "plt.legend(frameon=False)\n",
    "plt.tight_layout()\n",
    "plt.savefig('figure/guitar/total_reward.pdf', bbox_inches='tight', pad_inches=.1, transparent=True)"
   ]
  },
  {
   "cell_type": "markdown",
   "metadata": {},
   "source": [
    "### Fig 8C"
   ]
  },
  {
   "cell_type": "code",
   "execution_count": 4,
   "metadata": {},
   "outputs": [
    {
     "data": {
      "image/png": "[encoded data removed]",
      "text/plain": [
       "<Figure size 288x180 with 1 Axes>"
      ]
     },
     "metadata": {
      "needs_background": "light"
     },
     "output_type": "display_data"
    }
   ],
   "source": [
    "def plot_total_reward(total_reward, color, label, linewidth=1):\n",
    "    x_steps = np.shape(total_reward)[-1]\n",
    "    for i, rew in enumerate(total_reward):\n",
    "        if i == 0:\n",
    "            plt.plot(np.arange(x_steps) + 1, rew, c=color, linewidth=linewidth, label=label)\n",
    "        else:\n",
    "            plt.plot(np.arange(x_steps) + 1 + i * x_steps, rew, c=color, linewidth=linewidth)\n",
    "\n",
    "\n",
    "plt.figure(figsize=(4, 2.5))\n",
    "plot_total_reward(exp_sftransfer.results['total_reward'][1], 'C1', 'SF-learning\\nwith SF transfer', 2)\n",
    "plot_total_reward(exp_sfrewpred.results['total_reward'][1], 'C2', 'Reward Predictive\\nwith SF-learning', 2)\n",
    "x_list = [100, 130, 130]\n",
    "y_list = [\n",
    "    exp_sfrewpred.results['total_reward'][1][0, x_list[0]-1],\n",
    "    exp_sfrewpred.results['total_reward'][1][1, x_list[1]-100-1],\n",
    "    exp_sftransfer.results['total_reward'][1][1, x_list[2]-100-1]\n",
    "]\n",
    "plt.scatter(x_list, y_list, color='k', s=10)\n",
    "plt.ylabel('Reward per episode')\n",
    "plt.xlabel('Episode')\n",
    "plt.xticks([1] + list(np.arange(20, 201, 20)))\n",
    "plt.yticks(np.arange(-60, 11, 10))\n",
    "plt.ylim([-64, 11])\n",
    "plt.legend(loc=4, frameon=False, handlelength=0.7)\n",
    "plt.savefig('figure/guitar/episode_reward.pdf', bbox_inches='tight', pad_inches=.1, transparent=True)"
   ]
  },
  {
   "cell_type": "markdown",
   "metadata": {},
   "source": [
    "Note sequences played by each agent. These sequences were used to create the supporting audio files."
   ]
  },
  {
   "cell_type": "code",
   "execution_count": 5,
   "metadata": {},
   "outputs": [
    {
     "name": "stdout",
     "output_type": "stream",
     "text": [
      "Scales for SF-learning with SF transfer:\n",
      "Id: 100, notes: ['C', 'D', 'E', 'F', 'G', 'A', 'B']\n",
      "Id: 130, notes: ['A', 'B', 'D', 'A#', 'F#', 'C', 'D', 'E', 'F', 'D', 'C#', 'A', 'E', 'A#', 'D#', 'B', 'G#', 'C', 'F', 'F#', 'G']\n",
      "Scales for Reward Predictive with SF-learning:\n",
      "Id: 100, notes: ['C', 'D', 'E', 'F', 'G', 'A', 'B']\n",
      "Id: 130, notes: ['A', 'B', 'C', 'D', 'E', 'F', 'G']\n"
     ]
    }
   ],
   "source": [
    "idx_list = [100, 130]\n",
    "\n",
    "print('Scales for SF-learning with SF transfer:')\n",
    "traj_list_sftransfer = rp.utils.get_trajectory_list(exp_sftransfer, 0)\n",
    "for i in idx_list:\n",
    "    traj = traj_list_sftransfer[i - 1]\n",
    "    print('Id: {}, notes: {}'.format(i, [rp.guitar.notes[a] for a in traj.all()[1]]))\n",
    "\n",
    "print('Scales for Reward Predictive with SF-learning:')\n",
    "traj_list_rewpred = rp.utils.get_trajectory_list(exp_sfrewpred, 0)\n",
    "for i in idx_list:\n",
    "    traj = traj_list_rewpred[i - 1]\n",
    "    print('Id: {}, notes: {}'.format(i, [rp.guitar.notes[a] for a in traj.all()[1]]))"
   ]
  }
 ],
 "metadata": {
  "kernelspec": {
   "display_name": "Python 3",
   "language": "python",
   "name": "python3"
  },
  "language_info": {
   "codemirror_mode": {
    "name": "ipython",
    "version": 3
   },
   "file_extension": ".py",
   "mimetype": "text/x-python",
   "name": "python",
   "nbconvert_exporter": "python",
   "pygments_lexer": "ipython3",
   "version": "3.7.8"
  }
 },
 "nbformat": 4,
 "nbformat_minor": 2
}
